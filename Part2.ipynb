{
 "cells": [
  {
   "cell_type": "code",
   "source": [
    "!pip install faiss-gpu\n",
    "!pip install faiss-cpu"
   ],
   "metadata": {
    "colab": {
     "base_uri": "https://localhost:8080/"
    },
    "id": "8osx4DzeMgI8",
    "outputId": "2d8d153d-4362-4099-b5a3-958a13ecdb30",
    "pycharm": {
     "name": "#%%\n"
    }
   },
   "id": "8osx4DzeMgI8",
   "execution_count": 57,
   "outputs": [
    {
     "output_type": "stream",
     "name": "stdout",
     "text": [
      "Requirement already satisfied: faiss-gpu in /usr/local/lib/python3.10/dist-packages (1.7.2)\n",
      "Requirement already satisfied: faiss-cpu in /usr/local/lib/python3.10/dist-packages (1.8.0.post1)\n",
      "Requirement already satisfied: numpy<2.0,>=1.0 in /usr/local/lib/python3.10/dist-packages (from faiss-cpu) (1.25.2)\n",
      "Requirement already satisfied: packaging in /usr/local/lib/python3.10/dist-packages (from faiss-cpu) (24.1)\n"
     ]
    }
   ]
  },
  {
   "cell_type": "code",
   "execution_count": 58,
   "id": "initial_id",
   "metadata": {
    "ExecuteTime": {
     "end_time": "2024-06-10T21:00:36.522780Z",
     "start_time": "2024-06-10T21:00:35.443137Z"
    },
    "id": "initial_id",
    "pycharm": {
     "name": "#%%\n"
    }
   },
   "outputs": [],
   "source": [
    "import numpy as np\n",
    "from scipy import spatial\n",
    "import faiss\n",
    "from time import time\n",
    "import matplotlib.pyplot as plt\n",
    "from collections import defaultdict"
   ]
  },
  {
   "cell_type": "markdown",
   "id": "62f09c59a02a3b0d",
   "metadata": {
    "id": "62f09c59a02a3b0d",
    "pycharm": {
     "name": "#%% md\n"
    }
   },
   "source": [
    "## Helper Function"
   ]
  },
  {
   "cell_type": "code",
   "execution_count": 59,
   "id": "5a991f1eb012a476",
   "metadata": {
    "ExecuteTime": {
     "end_time": "2024-06-10T21:00:44.538572Z",
     "start_time": "2024-06-10T21:00:44.525608Z"
    },
    "id": "5a991f1eb012a476",
    "pycharm": {
     "name": "#%%\n"
    }
   },
   "outputs": [],
   "source": [
    "def semi_optimized_exhaustive_search(\n",
    "        index_vectors: np.ndarray,\n",
    "        query_vectors: np.ndarray,\n",
    "        k: int,\n",
    "):\n",
    "    \"\"\"\n",
    "    This function performs an optimized exhaustive search.\n",
    "    Args:\n",
    "        index_vectors: An array of shape (n_index, dim) containing the index vectors.\n",
    "        query_vectors: An array of shape (n_queries, dim) containing the query vectors.\n",
    "        dim: The dimensionality of the vectors.\n",
    "    Returns:\n",
    "        An array of shape (n_queries, k) containing the indices of the k nearest neighbors for each query vector.\n",
    "    \"\"\"\n",
    "    ann_lists = []\n",
    "    for query_vec in query_vectors:\n",
    "        distances = np.linalg.norm(index_vectors - query_vec, axis=1)\n",
    "        ann_lists.append(list(np.argsort(distances)[:k]))\n",
    "    return np.array(ann_lists)"
   ]
  },
  {
   "cell_type": "code",
   "execution_count": 60,
   "id": "a8ef475c717fbe2e",
   "metadata": {
    "ExecuteTime": {
     "end_time": "2024-06-10T21:00:47.719310Z",
     "start_time": "2024-06-10T21:00:47.698362Z"
    },
    "id": "a8ef475c717fbe2e",
    "pycharm": {
     "name": "#%%\n"
    }
   },
   "outputs": [],
   "source": [
    "def build_faiss_flatl2_index(\n",
    "        index_vectors: np.ndarray,\n",
    "        dim: int,\n",
    "):\n",
    "    \"\"\"\n",
    "    This function builds a Faiss flat L2 index.\n",
    "    Args:\n",
    "        index_vectors: An array of shape (n_index, dim) containing the index vectors.\n",
    "        dim: The dimensionality of the vectors.\n",
    "    Returns:\n",
    "        A Faiss flat L2 index.\n",
    "    \"\"\"\n",
    "    index = faiss.IndexFlatL2(dim)\n",
    "    index.add(index_vectors)\n",
    "    return index"
   ]
  },
  {
   "cell_type": "code",
   "execution_count": 61,
   "id": "1df7a2d698755a82",
   "metadata": {
    "ExecuteTime": {
     "end_time": "2024-06-10T21:00:48.174553Z",
     "start_time": "2024-06-10T21:00:48.157599Z"
    },
    "id": "1df7a2d698755a82",
    "pycharm": {
     "name": "#%%\n"
    }
   },
   "outputs": [],
   "source": [
    "def faiss_search(\n",
    "        query_vectors: np.ndarray,\n",
    "        index: faiss.Index,\n",
    "        k: int,\n",
    "):\n",
    "    \"\"\"\n",
    "    This function uses a Faiss index to search for the k-nearest neighbors of query_vectors.\n",
    "    Args:\n",
    "        query_vectors: An array of shape (n_queries, dim) containing the query vectors.\n",
    "        index: A Faiss index.\n",
    "        k: The number of nearest neighbors to retrieve.\n",
    "    Returns:\n",
    "        An array of shape (, ) containing the indices of the k-nearest neighbors for each query vector.\n",
    "    \"\"\"\n",
    "    distances, indices = index.search(query_vectors, k)\n",
    "    return indices"
   ]
  },
  {
   "cell_type": "code",
   "execution_count": 62,
   "id": "af14bea64023a3d4",
   "metadata": {
    "ExecuteTime": {
     "end_time": "2024-06-10T21:00:49.337476Z",
     "start_time": "2024-06-10T21:00:49.325508Z"
    },
    "id": "af14bea64023a3d4",
    "pycharm": {
     "name": "#%%\n"
    }
   },
   "outputs": [],
   "source": [
    "def build_faiss_lsh_index(\n",
    "        index_vectors: np.ndarray,\n",
    "        dim: int,\n",
    "        nbits: int,\n",
    "):\n",
    "    \"\"\"\n",
    "    This function builds a Faiss LSH index.\n",
    "    Args:\n",
    "        index_vectors: An array of shape (n_index, dim) containing the index vectors.\n",
    "        dim: The dimensionality of the vectors.\n",
    "        nbits: The number of bits to use in the hash.\n",
    "    Returns:\n",
    "        A Faiss LSH index.\n",
    "    \"\"\"\n",
    "    index = faiss.IndexLSH(dim, nbits)\n",
    "    index.add(index_vectors)\n",
    "    return index"
   ]
  },
  {
   "cell_type": "code",
   "execution_count": 63,
   "id": "b4b0932dfa7d7a4c",
   "metadata": {
    "ExecuteTime": {
     "end_time": "2024-06-10T21:00:49.732824Z",
     "start_time": "2024-06-10T21:00:49.718871Z"
    },
    "id": "b4b0932dfa7d7a4c",
    "pycharm": {
     "name": "#%%\n"
    }
   },
   "outputs": [],
   "source": [
    "def compute_recall_at_k(\n",
    "        nn_gt: np.ndarray,\n",
    "        ann: np.ndarray,\n",
    "        k: int,\n",
    "):\n",
    "    \"\"\"\n",
    "    This function computes the recall@k.\n",
    "    Args:\n",
    "        nn_gt: The ground truth nearest neighbors.\n",
    "        ann: The approximate nearest neighbors.\n",
    "        k: The number of nearest neighbors to consider.\n",
    "    Returns:\n",
    "        The recall@k.\n",
    "    \"\"\"\n",
    "    return round(sum([len(set(ann[i]) & set(nn_gt[i])) / k for i in range(len(ann))])/len(ann), 3)"
   ]
  },
  {
   "cell_type": "markdown",
   "id": "77d4be2e90ed842",
   "metadata": {
    "id": "77d4be2e90ed842",
    "pycharm": {
     "name": "#%% md\n"
    }
   },
   "source": [
    "# 2.1 -- LSH vs Naive Exhaustive Search (Regular Index Vectors)\n",
    "### You just have to run the following cells and add the following results to the report:\n",
    "* running time of the ground truth computation with semi_optimized_exhaustive_search (wall time)\n",
    "* running time of creating faiss_lsh_index (wall time)\n",
    "* running time of faiss_search over query_vectors with faiss_lsh_index (wall time)\n",
    "* recall@10 for faiss_lsh_ann"
   ]
  },
  {
   "cell_type": "code",
   "execution_count": 64,
   "id": "b4fdbd7671405821",
   "metadata": {
    "ExecuteTime": {
     "end_time": "2024-06-10T21:00:52.378174Z",
     "start_time": "2024-06-10T21:00:52.351252Z"
    },
    "id": "b4fdbd7671405821",
    "pycharm": {
     "name": "#%%\n"
    }
   },
   "outputs": [],
   "source": [
    "query_vectors = np.load('data/query_vectors.npy')\n",
    "index_vectors = np.load('data/index_vectors.npy')\n",
    "k=10\n",
    "dim = index_vectors.shape[1]"
   ]
  },
  {
   "cell_type": "code",
   "execution_count": 65,
   "id": "65ff74d429524ffc",
   "metadata": {
    "ExecuteTime": {
     "end_time": "2024-06-10T21:18:41.035362Z",
     "start_time": "2024-06-10T21:18:41.017409Z"
    },
    "colab": {
     "base_uri": "https://localhost:8080/"
    },
    "id": "65ff74d429524ffc",
    "outputId": "52b1f3f8-fb30-40de-cd3f-c6a2dcb3ef0b",
    "pycharm": {
     "name": "#%%\n"
    }
   },
   "outputs": [
    {
     "output_type": "stream",
     "name": "stdout",
     "text": [
      "CPU times: user 5.7 s, sys: 29.8 ms, total: 5.72 s\n",
      "Wall time: 6.24 s\n"
     ]
    }
   ],
   "source": [
    "%%time\n",
    "gt_nn = semi_optimized_exhaustive_search(index_vectors, query_vectors, k)"
   ]
  },
  {
   "cell_type": "code",
   "execution_count": 66,
   "id": "bd448cbdb96b1ba0",
   "metadata": {
    "ExecuteTime": {
     "end_time": "2024-06-10T21:18:36.008226Z",
     "start_time": "2024-06-10T21:18:35.998251Z"
    },
    "colab": {
     "base_uri": "https://localhost:8080/"
    },
    "id": "bd448cbdb96b1ba0",
    "outputId": "bafd870f-fc7c-4319-fd40-393fcab2a7e8",
    "pycharm": {
     "name": "#%%\n"
    }
   },
   "outputs": [
    {
     "output_type": "stream",
     "name": "stdout",
     "text": [
      "CPU times: user 736 ms, sys: 60.7 ms, total: 797 ms\n",
      "Wall time: 918 ms\n"
     ]
    }
   ],
   "source": [
    "%%time\n",
    "faiss_lsh_index = build_faiss_lsh_index(index_vectors, dim, nbits=2000)"
   ]
  },
  {
   "cell_type": "code",
   "execution_count": 67,
   "id": "b0a321e6b7406267",
   "metadata": {
    "ExecuteTime": {
     "end_time": "2024-06-10T21:18:32.391344Z",
     "start_time": "2024-06-10T21:18:32.385337Z"
    },
    "colab": {
     "base_uri": "https://localhost:8080/"
    },
    "id": "b0a321e6b7406267",
    "outputId": "0b5fb29b-9f59-4b40-ac6c-5414ce2421c9",
    "pycharm": {
     "name": "#%%\n"
    }
   },
   "outputs": [
    {
     "output_type": "stream",
     "name": "stdout",
     "text": [
      "CPU times: user 772 ms, sys: 1.71 ms, total: 773 ms\n",
      "Wall time: 434 ms\n"
     ]
    }
   ],
   "source": [
    "%%time\n",
    "faiss_lsh_ann = faiss_search(query_vectors, faiss_lsh_index, k)"
   ]
  },
  {
   "cell_type": "code",
   "execution_count": 68,
   "id": "e5554595c4d77a27",
   "metadata": {
    "ExecuteTime": {
     "end_time": "2024-06-10T21:18:26.322703Z",
     "start_time": "2024-06-10T21:18:26.233820Z"
    },
    "colab": {
     "base_uri": "https://localhost:8080/"
    },
    "id": "e5554595c4d77a27",
    "outputId": "823a8758-8384-4f3a-8ed8-42d6e8c5d027",
    "pycharm": {
     "name": "#%%\n"
    }
   },
   "outputs": [
    {
     "output_type": "stream",
     "name": "stdout",
     "text": [
      "recall@10 for faiss_lsh_index: 0.138\n"
     ]
    }
   ],
   "source": [
    "print(f\"recall@10 for faiss_lsh_index: {compute_recall_at_k(gt_nn, faiss_lsh_ann, k)}\")"
   ]
  },
  {
   "cell_type": "markdown",
   "id": "ad5ca983b3a893e5",
   "metadata": {
    "id": "ad5ca983b3a893e5",
    "pycharm": {
     "name": "#%% md\n"
    }
   },
   "source": [
    "# 2.2 -- Custom Indexing Algorithm\n",
    "Build an indexing algorithm that satisfies the following requirements:\n",
    "* The indexing algorithm should be able to handle vectors of different dimensions\n",
    "* The running time of the indexing should be less than half of the running time of semi_optimized_exhaustive_search), reported in Section 2.1.\n",
    "* The running time of searching over the index should be less than a third (1/3) of the time of the semi_optimized_exhaustive_search function, reported in Section 2.1.\n",
    "* The performance (in terms of recall@10) of the indexing algorithm should be at least 0.8.\n",
    "\n",
    "The last three bullets should also appear in the report.\n",
    "You are allowed to add as many helper functions as you need. You cannot use faiss of scipy libraries for this task. Numpy is allowed.\n",
    "\n",
    "You can also test your algorithm with the additional two query-index sets by replacing the calls made few cells ago to:\n",
    "\n",
    "    query_vectors = np.load('data/query_vectors2.npy')\n",
    "    index_vectors = np.load('data/index_vectors2.npy')\n",
    "or:\n",
    "\n",
    "    query_vectors = np.load('data/query_vectors3.npy')\n",
    "    index_vectors = np.load('data/index_vectors3.npy')\n",
    "    \n",
    "the aforementioned requirements should also be satisfied over these two query-index sets. No need to insert the results over these two to the report."
   ]
  },
  {
   "cell_type": "code",
   "source": [
    "from sklearn.cluster import KMeans"
   ],
   "metadata": {
    "id": "kxeGshZZOovj",
    "pycharm": {
     "name": "#%%\n"
    }
   },
   "id": "kxeGshZZOovj",
   "execution_count": 69,
   "outputs": []
  },
  {
   "cell_type": "code",
   "source": [
    "class SNNIndex:\n",
    "    \"\"\"\n",
    "    'Soft Kmeans Indexing' - Indexing class for vectorDB\n",
    "    \"\"\"\n",
    "    def __init__(self, noc, div_ratio):\n",
    "        \"\"\"\n",
    "        :param noc: Number of Clusters (Kmeans parameter).\n",
    "        :param div_ratio: Division Ratio - determined the number of neighbored clusters.\n",
    "        \"\"\"\n",
    "        self.noc = noc\n",
    "        self.div_ratio = div_ratio\n",
    "        self.non = int(self.noc / self.div_ratio)  # Number of Neighbors\n",
    "        self.indexing = {ci: [] for ci in range(noc)}  # dictionary of (label: vectors)\n",
    "        self.centroids = None  # centroids list (vectors)\n",
    "        self.vec2ind = {}  # dictionary of (vector: index)\n",
    "\n",
    "    def index(self, vectors):\n",
    "        \"\"\"\n",
    "        This function builds an index from scratch.\n",
    "        :param vectors: An array of vectors.\n",
    "        \"\"\"\n",
    "        # perform Kmeans classification\n",
    "        self.centroids, labels = SKMIndex.perform_kmeans(self.noc)\n",
    "\n",
    "        # find closest neighbors of each cluster\n",
    "        centroids_neighbors = {ci: [] for ci in range(self.noc)}\n",
    "        for label, cent in enumerate(self.centroids):\n",
    "            dist_from_rest = np.linalg.norm(self.centroids - cent, axis=1)\n",
    "            centroids_neighbors[label] = list(np.argsort(dist_from_rest)[1:self.non + 1])\n",
    "\n",
    "        # fill dictionary of (label: vectors) - each key label contains vectors from same cluster and neighbor clusters\n",
    "        for label, vector in zip(labels, vectors):\n",
    "            self.indexing[label].append(vector)\n",
    "            for neighbor_label in centroids_neighbors[label]:\n",
    "                self.indexing[neighbor_label].append(vector)\n",
    "        for key in self.indexing.keys():\n",
    "            self.indexing[key] = np.array(self.indexing[key])\n",
    "\n",
    "        # fill dictionary of (vector: index) - each key vector contains the vector index in 'index_vectors'\n",
    "        for ind, vector in enumerate(vectors):\n",
    "            self.vec2ind[tuple(vector)] = ind\n",
    "\n",
    "\n",
    "    def search(self, queries, k):\n",
    "        \"\"\"\n",
    "        This function search the most similar items for each query\n",
    "        :param queries: An array of vectors.\n",
    "        :param k: The number of nearest neighbors to retrieve.\n",
    "        :return: list of lists\n",
    "        \"\"\"\n",
    "        search_results = []\n",
    "        for qv in queries:\n",
    "            # find the nearest centroid to the 'qv' vector (the index)\n",
    "            dists_from_centroids = np.linalg.norm(self.centroids - qv, axis=1)\n",
    "            nearest_centroid = np.argmin(dists_from_centroids)  # 1\n",
    "            # find distances between the 'qv' vector to the corresponding vectors belong to the index\n",
    "            dists = np.linalg.norm(self.indexing[nearest_centroid] - qv, axis=1)\n",
    "            # sort and save the closest 'k' vectors\n",
    "            sorted_dists_ind = list(np.argsort(dists)[:k])\n",
    "            results = [self.indexing[nearest_centroid][i] for i in sorted_dists_ind]\n",
    "            search_results.append([self.vec2ind[tuple(vector)] for vector in results])\n",
    "        return search_results\n",
    "\n",
    "\n",
    "    @staticmethod\n",
    "    def perform_kmeans(k, random_state=42, n_init=1):\n",
    "        \"\"\"\n",
    "        This function run the Kmeans algorithm\n",
    "        Args:\n",
    "            k: number of clusters\n",
    "            random_state: constant intialization\n",
    "            n_init: number of different centorids initalizations\n",
    "        Returns:\n",
    "            centroids of each cluster (list), labels for each vector (list)\n",
    "        \"\"\"\n",
    "        kmeans = KMeans(n_clusters=k, random_state=random_state, n_init=n_init)\n",
    "        kmeans.fit(index_vectors)\n",
    "        labels = kmeans.predict(index_vectors)\n",
    "        centroids = kmeans.cluster_centers_\n",
    "        return centroids, labels"
   ],
   "metadata": {
    "id": "t-2BY_27SZMk",
    "pycharm": {
     "name": "#%%\n"
    }
   },
   "id": "t-2BY_27SZMk",
   "execution_count": 70,
   "outputs": []
  },
  {
   "cell_type": "code",
   "execution_count": 71,
   "id": "8421dc36363650c5",
   "metadata": {
    "ExecuteTime": {
     "end_time": "2024-05-27T12:25:32.578478400Z",
     "start_time": "2024-05-27T12:25:32.483352800Z"
    },
    "id": "8421dc36363650c5",
    "pycharm": {
     "name": "#%%\n"
    }
   },
   "outputs": [],
   "source": [
    "#TODO: Write your code for 2.2.2 here\n",
    "# You are allowed to add more arguments to the functions and create more functions if needed.\n",
    "\n",
    "def custom_indexing_algorithm(index_vectors, dim, noc, div_ratio):\n",
    "    \"\"\"\n",
    "    This function builds an index from scratch.\n",
    "    Args:\n",
    "        index_vectors: An array of shape (n_index, dim) containing the index vectors.\n",
    "        dim: The dimensionality of the vectors.\n",
    "        noc: Number of Clusters (Kmeans parameter).\n",
    "        div_ratio: Division Ratio - determined the number of neighbors clusters.\n",
    "    Returns:\n",
    "        An index.\n",
    "    \"\"\"\n",
    "    skm_index = SNNIndex(noc=50, div_ratio=8)\n",
    "    skm_index.index(index_vectors)\n",
    "    return skm_index\n",
    "\n",
    "\n",
    "def custom_index_search(query_vectors, index, k):\n",
    "    \"\"\"\n",
    "    This function searches over the custom index.\n",
    "    Args:\n",
    "        query_vectors: An array of shape (n_queries, dim) containing the query vectors.\n",
    "        index: The custom index.\n",
    "        k: The number of nearest neighbors to retrieve.\n",
    "    \"\"\"\n",
    "    res = index.search(query_vectors, k)\n",
    "    return res\n"
   ]
  },
  {
   "cell_type": "code",
   "execution_count": 72,
   "id": "a50f4b92f2ec12fd",
   "metadata": {
    "ExecuteTime": {
     "end_time": "2024-06-10T21:00:22.662764Z",
     "start_time": "2024-06-10T21:00:22.650804Z"
    },
    "id": "a50f4b92f2ec12fd",
    "pycharm": {
     "name": "#%%\n"
    }
   },
   "outputs": [],
   "source": [
    "# Add hyperparameters here (if needed)\n",
    "noc = 50\n",
    "div_ratio = 8"
   ]
  },
  {
   "cell_type": "code",
   "execution_count": 73,
   "id": "ef371ecd242846db",
   "metadata": {
    "id": "ef371ecd242846db",
    "colab": {
     "base_uri": "https://localhost:8080/"
    },
    "outputId": "914c90cb-e396-4e7b-94e1-6a262d056294",
    "pycharm": {
     "name": "#%%\n"
    }
   },
   "outputs": [
    {
     "output_type": "stream",
     "name": "stdout",
     "text": [
      "CPU times: user 1.41 s, sys: 145 ms, total: 1.55 s\n",
      "Wall time: 1.2 s\n"
     ]
    }
   ],
   "source": [
    "%%time\n",
    "custom_index = custom_indexing_algorithm(index_vectors, dim, noc, div_ratio)"
   ]
  },
  {
   "cell_type": "code",
   "execution_count": 74,
   "id": "1c40c61275a3d001",
   "metadata": {
    "id": "1c40c61275a3d001",
    "colab": {
     "base_uri": "https://localhost:8080/"
    },
    "outputId": "6949656c-f538-45f1-f3a8-e6dea4481ee9",
    "pycharm": {
     "name": "#%%\n"
    }
   },
   "outputs": [
    {
     "output_type": "stream",
     "name": "stdout",
     "text": [
      "CPU times: user 1.36 s, sys: 15.1 ms, total: 1.37 s\n",
      "Wall time: 2.88 s\n"
     ]
    }
   ],
   "source": [
    "%%time\n",
    "custom_index_ann = custom_index_search(query_vectors, custom_index, k)"
   ]
  },
  {
   "cell_type": "code",
   "execution_count": 75,
   "id": "3ddba190c55cd0af",
   "metadata": {
    "ExecuteTime": {
     "end_time": "2024-05-27T13:30:57.922904800Z",
     "start_time": "2024-05-27T13:30:57.874785600Z"
    },
    "id": "3ddba190c55cd0af",
    "colab": {
     "base_uri": "https://localhost:8080/"
    },
    "outputId": "acffd892-56e7-4c8f-e627-58c46eeec28d",
    "pycharm": {
     "name": "#%%\n"
    }
   },
   "outputs": [
    {
     "output_type": "stream",
     "name": "stdout",
     "text": [
      "recall@10 for custom_index_search: 0.937\n"
     ]
    }
   ],
   "source": [
    "print(f\"recall@10 for custom_index_search: {compute_recall_at_k(gt_nn, custom_index_ann, k)}\")"
   ]
  },
  {
   "cell_type": "code",
   "execution_count": 76,
   "id": "9707f4e593c385ac",
   "metadata": {
    "ExecuteTime": {
     "end_time": "2024-06-10T21:35:09.991891Z",
     "start_time": "2024-06-10T21:35:09.983920Z"
    },
    "id": "9707f4e593c385ac",
    "pycharm": {
     "name": "#%%\n"
    }
   },
   "outputs": [],
   "source": [
    "# results for all data\n",
    "gt_time = []\n",
    "indexing_time = []\n",
    "searching_time = []\n",
    "accuracy = []\n",
    "\n",
    "for suf in ['', '2', '3']:\n",
    "  query_vectors = np.load(f'data/query_vectors{suf}.npy')\n",
    "  index_vectors = np.load(f'data/index_vectors{suf}.npy')\n",
    "  k=10\n",
    "\n",
    "  # obtain ground truth\n",
    "  st = time()\n",
    "  gt_nn = semi_optimized_exhaustive_search(index_vectors, query_vectors, k)\n",
    "  gt_time.append(time() - st)\n",
    "\n",
    "  # use custom index\n",
    "\n",
    "  noc, div_ratio = 50, 80\n",
    "\n",
    "  st = time()\n",
    "  custom_index = custom_indexing_algorithm(index_vectors, dim, noc, div_ratio)\n",
    "  indexing_time.append(time() - st)\n",
    "\n",
    "  st = time()\n",
    "  custom_index_ann = custom_index_search(query_vectors, custom_index, k)\n",
    "  searching_time.append(time() - st)\n",
    "\n",
    "  acc = compute_recall_at_k(gt_nn, custom_index_ann, k)\n",
    "  accuracy.append(acc)\n",
    "\n"
   ]
  },
  {
   "cell_type": "code",
   "source": [
    "print(\"ground truth time: \", gt_time)\n",
    "print(\"custom index indexing time: \", indexing_time)\n",
    "print(\"ustom index searching time: \", searching_time)\n",
    "print(\"accuracy: \", accuracy)"
   ],
   "metadata": {
    "colab": {
     "base_uri": "https://localhost:8080/"
    },
    "id": "A2wDl7Qfei55",
    "outputId": "c6f1c9e4-3865-4269-975c-f200fdb8d361",
    "pycharm": {
     "name": "#%%\n"
    }
   },
   "id": "A2wDl7Qfei55",
   "execution_count": 77,
   "outputs": [
    {
     "output_type": "stream",
     "name": "stdout",
     "text": [
      "ground truth time:  [8.196296691894531, 14.302134275436401, 5.569471836090088]\n",
      "custom index indexing time:  [2.553548812866211, 1.4656586647033691, 0.9073696136474609]\n",
      "ustom index searching time:  [1.6720178127288818, 1.2402920722961426, 0.7980630397796631]\n",
      "accuracy:  [0.937, 0.912, 0.96]\n"
     ]
    }
   ]
  },
  {
   "cell_type": "code",
   "source": [],
   "metadata": {
    "id": "zAqI0SZcesSN",
    "pycharm": {
     "name": "#%%\n"
    }
   },
   "id": "zAqI0SZcesSN",
   "execution_count": 77,
   "outputs": []
  }
 ],
 "metadata": {
  "kernelspec": {
   "display_name": "Python 3 (ipykernel)",
   "language": "python",
   "name": "python3"
  },
  "language_info": {
   "codemirror_mode": {
    "name": "ipython",
    "version": 3
   },
   "file_extension": ".py",
   "mimetype": "text/x-python",
   "name": "python",
   "nbconvert_exporter": "python",
   "pygments_lexer": "ipython3",
   "version": "3.11.3"
  },
  "colab": {
   "provenance": []
  }
 },
 "nbformat": 4,
 "nbformat_minor": 5
}